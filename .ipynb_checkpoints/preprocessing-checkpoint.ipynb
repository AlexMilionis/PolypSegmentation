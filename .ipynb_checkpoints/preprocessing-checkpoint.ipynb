{
 "cells": [
  {
   "cell_type": "code",
   "execution_count": 80,
   "id": "155a3619-1d97-484c-88d5-8b882c4d5fde",
   "metadata": {},
   "outputs": [],
   "source": [
    "import os\n",
    "import shutil\n",
    "\n",
    "import numpy \n",
    "import torch\n",
    "\n",
    "from torchvision.transforms import v2\n",
    "from PIL import Image"
   ]
  },
  {
   "cell_type": "code",
   "execution_count": 2,
   "id": "3ee7f425-2499-4e72-8348-04dd4943a479",
   "metadata": {},
   "outputs": [
    {
     "name": "stdout",
     "output_type": "stream",
     "text": [
      "['.DS_Store', 'codes', 'dataDetails_PolypGen_SingleFrames', 'data_C1', 'data_C2', 'data_C3', 'data_C4', 'data_C5', 'data_C6', 'fileStructure_all.txt', 'fileStructure_directories.txt', 'folderStructure', 'imagesAll_positive', 'license.txt', 'PolypGen2021_MultiCenterData_Concatenated', 'readme.html', 'readme.md', 'sequenceData']\n"
     ]
    }
   ],
   "source": [
    "# DATASET_PATH = \"D:/repos/MSc Thesis/PolypGen2021_MultiCenterData_v3/\"\n",
    "# TARGET_DIR = \"D:/repos/MSc Thesis/PolypGen2021_MultiCenterData_v3/SingleFrames/\"\n",
    "\n",
    "# ## READ FILES\n",
    "# file_list = []\n",
    "# for file in os.listdir(DATASET_PATH):\n",
    "#     file_list.append(file)\n",
    "# print(file_list)"
   ]
  },
  {
   "cell_type": "markdown",
   "id": "3c46bcb1-66f0-46db-b52d-433954665f82",
   "metadata": {},
   "source": [
    "# Load data"
   ]
  },
  {
   "cell_type": "code",
   "execution_count": null,
   "id": "14c6d4d4-3d8e-4548-9d03-6d3c4d965230",
   "metadata": {},
   "outputs": [],
   "source": [
    "DATASET_PATH = \"D:/repos/MSc Thesis/PolypGen2021_MultiCenterData_v3/\"\n",
    "TARGET_PATH = \"D:/repos/MSc Thesis/PolypGen2021_MultiCenterData_v3/Generated/\""
   ]
  },
  {
   "cell_type": "markdown",
   "id": "045f3fdf-4e01-4361-8236-c6bdef54c218",
   "metadata": {},
   "source": [
    "## Single Frame Images"
   ]
  },
  {
   "cell_type": "code",
   "execution_count": 121,
   "id": "ade0c24d-5916-493d-a941-719953a221e3",
   "metadata": {},
   "outputs": [],
   "source": [
    "TARGET_PATH = os.path.join(DATASET_PATH, \"Generated\", \"SingleFrameData\")\n",
    "new_dirs = [\"TrainData\", \"TrainLabels\", \"TestData\", \"TestLabels\"]\n",
    "for item in new_dirs:\n",
    "    os.makedirs(os.path.join(TARGET_PATH, item), exist_ok = True)\n",
    "\n",
    "def FilterSingleFrames(elem):\n",
    "    if \"data_C\" in elem:\n",
    "        return elem\n",
    "SingleFramesDir = list(filter(FilterSingleFrames, os.listdir(DATASET_PATH)))\n",
    "\n",
    "for i, folder in enumerate(SingleFramesDir, start=1):\n",
    "    img_path = os.path.join(DATASET_PATH, f'data_C{i}', f'images_C{i}')\n",
    "    for img in os.listdir(img_path):\n",
    "        src = os.path.join(img_path, img)\n",
    "        # print(src)\n",
    "        if i==6:\n",
    "            target_dir = os.path.join(TARGET_PATH, 'TestData')\n",
    "        else:\n",
    "            target_dir = os.path.join(TARGET_PATH, 'TrainData')\n",
    "        dst = os.path.join(target_dir, img)\n",
    "        # print(dst)\n",
    "        shutil.copy(src, dst)\n",
    "        break\n",
    "\n",
    "    label_path = os.path.join(DATASET_PATH, f'data_C{i}', f'masks_C{i}')\n",
    "    for img in os.listdir(label_path):\n",
    "        src = os.path.join(label_path, img)\n",
    "        # print(src)\n",
    "        if i==6:\n",
    "            target_dir = os.path.join(TARGET_PATH, 'TestLabels')\n",
    "        else:\n",
    "            target_dir = os.path.join(TARGET_PATH, 'TrainLabels')\n",
    "        dst = os.path.join(target_dir, img)\n",
    "        # print(dst)\n",
    "        shutil.copy(src, dst)\n",
    "        break\n"
   ]
  },
  {
   "cell_type": "code",
   "execution_count": 119,
   "id": "566511a8-6d6d-4d62-9d18-8eb701f25923",
   "metadata": {
    "scrolled": true
   },
   "outputs": [
    {
     "ename": "FileNotFoundError",
     "evalue": "[WinError 3] The system cannot find the path specified: 'D:/repos/MSc Thesis/PolypGen2021_MultiCenterData_v3/SingleFrameData/'",
     "output_type": "error",
     "traceback": [
      "\u001b[1;31m---------------------------------------------------------------------------\u001b[0m",
      "\u001b[1;31mFileNotFoundError\u001b[0m                         Traceback (most recent call last)",
      "Cell \u001b[1;32mIn[119], line 2\u001b[0m\n\u001b[0;32m      1\u001b[0m \u001b[38;5;66;03m# Delete created directory\u001b[39;00m\n\u001b[1;32m----> 2\u001b[0m shutil\u001b[38;5;241m.\u001b[39mrmtree(TARGET_PATH)\n",
      "File \u001b[1;32m~\\anaconda3\\envs\\msc_thesis\\Lib\\shutil.py:781\u001b[0m, in \u001b[0;36mrmtree\u001b[1;34m(path, ignore_errors, onerror, onexc, dir_fd)\u001b[0m\n\u001b[0;32m    779\u001b[0m     \u001b[38;5;66;03m# can't continue even if onexc hook returns\u001b[39;00m\n\u001b[0;32m    780\u001b[0m     \u001b[38;5;28;01mreturn\u001b[39;00m\n\u001b[1;32m--> 781\u001b[0m \u001b[38;5;28;01mreturn\u001b[39;00m _rmtree_unsafe(path, onexc)\n",
      "File \u001b[1;32m~\\anaconda3\\envs\\msc_thesis\\Lib\\shutil.py:623\u001b[0m, in \u001b[0;36m_rmtree_unsafe\u001b[1;34m(path, onexc)\u001b[0m\n\u001b[0;32m    621\u001b[0m     onexc(os\u001b[38;5;241m.\u001b[39mscandir, err\u001b[38;5;241m.\u001b[39mfilename, err)\n\u001b[0;32m    622\u001b[0m results \u001b[38;5;241m=\u001b[39m os\u001b[38;5;241m.\u001b[39mwalk(path, topdown\u001b[38;5;241m=\u001b[39m\u001b[38;5;28;01mFalse\u001b[39;00m, onerror\u001b[38;5;241m=\u001b[39monerror, followlinks\u001b[38;5;241m=\u001b[39mos\u001b[38;5;241m.\u001b[39m_walk_symlinks_as_files)\n\u001b[1;32m--> 623\u001b[0m \u001b[38;5;28;01mfor\u001b[39;00m dirpath, dirnames, filenames \u001b[38;5;129;01min\u001b[39;00m results:\n\u001b[0;32m    624\u001b[0m     \u001b[38;5;28;01mfor\u001b[39;00m name \u001b[38;5;129;01min\u001b[39;00m dirnames:\n\u001b[0;32m    625\u001b[0m         fullname \u001b[38;5;241m=\u001b[39m os\u001b[38;5;241m.\u001b[39mpath\u001b[38;5;241m.\u001b[39mjoin(dirpath, name)\n",
      "File \u001b[1;32m~\\anaconda3\\envs\\msc_thesis\\Lib\\os.py:369\u001b[0m, in \u001b[0;36mwalk\u001b[1;34m(top, topdown, onerror, followlinks)\u001b[0m\n\u001b[0;32m    367\u001b[0m \u001b[38;5;28;01mexcept\u001b[39;00m \u001b[38;5;167;01mOSError\u001b[39;00m \u001b[38;5;28;01mas\u001b[39;00m error:\n\u001b[0;32m    368\u001b[0m     \u001b[38;5;28;01mif\u001b[39;00m onerror \u001b[38;5;129;01mis\u001b[39;00m \u001b[38;5;129;01mnot\u001b[39;00m \u001b[38;5;28;01mNone\u001b[39;00m:\n\u001b[1;32m--> 369\u001b[0m         onerror(error)\n\u001b[0;32m    370\u001b[0m     \u001b[38;5;28;01mcontinue\u001b[39;00m\n\u001b[0;32m    372\u001b[0m cont \u001b[38;5;241m=\u001b[39m \u001b[38;5;28;01mFalse\u001b[39;00m\n",
      "File \u001b[1;32m~\\anaconda3\\envs\\msc_thesis\\Lib\\shutil.py:621\u001b[0m, in \u001b[0;36m_rmtree_unsafe.<locals>.onerror\u001b[1;34m(err)\u001b[0m\n\u001b[0;32m    620\u001b[0m \u001b[38;5;28;01mdef\u001b[39;00m \u001b[38;5;21monerror\u001b[39m(err):\n\u001b[1;32m--> 621\u001b[0m     onexc(os\u001b[38;5;241m.\u001b[39mscandir, err\u001b[38;5;241m.\u001b[39mfilename, err)\n",
      "File \u001b[1;32m~\\anaconda3\\envs\\msc_thesis\\Lib\\os.py:366\u001b[0m, in \u001b[0;36mwalk\u001b[1;34m(top, topdown, onerror, followlinks)\u001b[0m\n\u001b[0;32m    360\u001b[0m \u001b[38;5;66;03m# We may not have read permission for top, in which case we can't\u001b[39;00m\n\u001b[0;32m    361\u001b[0m \u001b[38;5;66;03m# get a list of the files the directory contains.\u001b[39;00m\n\u001b[0;32m    362\u001b[0m \u001b[38;5;66;03m# We suppress the exception here, rather than blow up for a\u001b[39;00m\n\u001b[0;32m    363\u001b[0m \u001b[38;5;66;03m# minor reason when (say) a thousand readable directories are still\u001b[39;00m\n\u001b[0;32m    364\u001b[0m \u001b[38;5;66;03m# left to visit.\u001b[39;00m\n\u001b[0;32m    365\u001b[0m \u001b[38;5;28;01mtry\u001b[39;00m:\n\u001b[1;32m--> 366\u001b[0m     scandir_it \u001b[38;5;241m=\u001b[39m scandir(top)\n\u001b[0;32m    367\u001b[0m \u001b[38;5;28;01mexcept\u001b[39;00m \u001b[38;5;167;01mOSError\u001b[39;00m \u001b[38;5;28;01mas\u001b[39;00m error:\n\u001b[0;32m    368\u001b[0m     \u001b[38;5;28;01mif\u001b[39;00m onerror \u001b[38;5;129;01mis\u001b[39;00m \u001b[38;5;129;01mnot\u001b[39;00m \u001b[38;5;28;01mNone\u001b[39;00m:\n",
      "\u001b[1;31mFileNotFoundError\u001b[0m: [WinError 3] The system cannot find the path specified: 'D:/repos/MSc Thesis/PolypGen2021_MultiCenterData_v3/SingleFrameData/'"
     ]
    }
   ],
   "source": [
    "# Delete created directory\n",
    "# shutil.rmtree(TARGET_PATH)"
   ]
  },
  {
   "cell_type": "markdown",
   "id": "3eaf0bd5-1c9b-4d84-b76c-e42910533a97",
   "metadata": {},
   "source": [
    "## Sequence Data"
   ]
  },
  {
   "cell_type": "code",
   "execution_count": 125,
   "id": "ec089206-f7b8-4ad9-86f2-8e703297a827",
   "metadata": {},
   "outputs": [
    {
     "data": {
      "text/plain": [
       "['.DS_Store', 'negativeOnly', 'positive']"
      ]
     },
     "execution_count": 125,
     "metadata": {},
     "output_type": "execute_result"
    }
   ],
   "source": [
    "# TARGET_PATH = os.path.join(DATASET_PATH, \"Generated\", \"SequenceData\")\n",
    "# new_dirs = [\"TrainData\", \"TrainLabels\", \"TestData\", \"TestLabels\"]\n",
    "# for item in new_dirs:\n",
    "#     os.makedirs(os.path.join(TARGET_PATH, item), exist_ok = True)\n",
    "\n",
    "os.listdir(os.path.join(DATASET_PATH, \"sequenceData\"))\n",
    "\n"
   ]
  },
  {
   "cell_type": "markdown",
   "id": "4200d2a6-3a78-422a-ac27-582f0ff7dd52",
   "metadata": {},
   "source": [
    "# data preprocessing"
   ]
  },
  {
   "cell_type": "markdown",
   "id": "c5b47e02-10ea-4c61-908e-ffb88440db12",
   "metadata": {},
   "source": [
    "scaling (0.5,2)\n",
    "\n",
    "random cropping\n",
    "\n",
    "random horizontal flip\n",
    "\n",
    "image normalization\n"
   ]
  },
  {
   "cell_type": "code",
   "execution_count": 7,
   "id": "f1e99864-a202-4740-9667-23ab435a5143",
   "metadata": {},
   "outputs": [],
   "source": [
    "# Single Frames\n",
    "transforms = v2.Compose([\n",
    "    v2.RandomCrop(size=(1024, 1024),  pad_if_needed=True, fill=0)\n",
    "])\n"
   ]
  },
  {
   "cell_type": "code",
   "execution_count": 8,
   "id": "f4ed2303-a3aa-426a-a073-fdd469e2c0fd",
   "metadata": {},
   "outputs": [],
   "source": [
    "img_transformed  = transforms(img)\n",
    "img_transformed.show()"
   ]
  },
  {
   "cell_type": "code",
   "execution_count": null,
   "id": "0712d4b4-e0d4-4663-8022-d8db98fd7df3",
   "metadata": {},
   "outputs": [],
   "source": []
  },
  {
   "cell_type": "code",
   "execution_count": null,
   "id": "1103a0e8-989a-41b6-8f5c-59c46c25999b",
   "metadata": {},
   "outputs": [],
   "source": []
  }
 ],
 "metadata": {
  "kernelspec": {
   "display_name": "MSc Thesis",
   "language": "python",
   "name": "msc_thesis"
  },
  "language_info": {
   "codemirror_mode": {
    "name": "ipython",
    "version": 3
   },
   "file_extension": ".py",
   "mimetype": "text/x-python",
   "name": "python",
   "nbconvert_exporter": "python",
   "pygments_lexer": "ipython3",
   "version": "3.12.7"
  }
 },
 "nbformat": 4,
 "nbformat_minor": 5
}
