{
 "cells": [
  {
   "cell_type": "code",
   "execution_count": 3,
   "id": "155a3619-1d97-484c-88d5-8b882c4d5fde",
   "metadata": {},
   "outputs": [],
   "source": [
    "import os\n",
    "import shutil\n",
    "\n",
    "import numpy \n",
    "import torch\n",
    "\n",
    "from torchvision.transforms import v2\n",
    "from PIL import Image"
   ]
  },
  {
   "cell_type": "markdown",
   "id": "3c46bcb1-66f0-46db-b52d-433954665f82",
   "metadata": {},
   "source": [
    "# Load data"
   ]
  },
  {
   "cell_type": "code",
   "execution_count": 7,
   "id": "14c6d4d4-3d8e-4548-9d03-6d3c4d965230",
   "metadata": {},
   "outputs": [],
   "source": [
    "DATASET_PATH = \"D:/repos/MSc Thesis/PolypGen2021_MultiCenterData_v3/\"\n",
    "TARGET_PATH = \"D:/repos/MSc Thesis/PolypGen2021_MultiCenterData_v3/Generated/\""
   ]
  },
  {
   "cell_type": "markdown",
   "id": "045f3fdf-4e01-4361-8236-c6bdef54c218",
   "metadata": {},
   "source": [
    "## Single Frame Images"
   ]
  },
  {
   "cell_type": "code",
   "execution_count": 121,
   "id": "ade0c24d-5916-493d-a941-719953a221e3",
   "metadata": {},
   "outputs": [],
   "source": [
    "TARGET_PATH = os.path.join(DATASET_PATH, \"Generated\", \"SingleFrameData\")\n",
    "new_dirs = [\"TrainData\", \"TrainLabels\", \"TestData\", \"TestLabels\"]\n",
    "for item in new_dirs:\n",
    "    os.makedirs(os.path.join(TARGET_PATH, item), exist_ok = True)\n",
    "\n",
    "def FilterSingleFrames(elem):\n",
    "    if \"data_C\" in elem:\n",
    "        return elem\n",
    "SingleFramesDir = list(filter(FilterSingleFrames, os.listdir(DATASET_PATH)))\n",
    "\n",
    "for i, folder in enumerate(SingleFramesDir, start=1):\n",
    "    img_path = os.path.join(DATASET_PATH, f'data_C{i}', f'images_C{i}')\n",
    "    for img in os.listdir(img_path):\n",
    "        src = os.path.join(img_path, img)\n",
    "        # print(src)\n",
    "        if i==6:\n",
    "            target_dir = os.path.join(TARGET_PATH, 'TestData')\n",
    "        else:\n",
    "            target_dir = os.path.join(TARGET_PATH, 'TrainData')\n",
    "        dst = os.path.join(target_dir, img)\n",
    "        # print(dst)\n",
    "        shutil.copy(src, dst)\n",
    "        break\n",
    "\n",
    "    label_path = os.path.join(DATASET_PATH, f'data_C{i}', f'masks_C{i}')\n",
    "    for img in os.listdir(label_path):\n",
    "        src = os.path.join(label_path, img)\n",
    "        # print(src)\n",
    "        if i==6:\n",
    "            target_dir = os.path.join(TARGET_PATH, 'TestLabels')\n",
    "        else:\n",
    "            target_dir = os.path.join(TARGET_PATH, 'TrainLabels')\n",
    "        dst = os.path.join(target_dir, img)\n",
    "        # print(dst)\n",
    "        shutil.copy(src, dst)\n",
    "        break\n"
   ]
  },
  {
   "cell_type": "code",
   "execution_count": 9,
   "id": "566511a8-6d6d-4d62-9d18-8eb701f25923",
   "metadata": {
    "scrolled": true
   },
   "outputs": [],
   "source": [
    "# Delete created directory\n",
    "shutil.rmtree(TARGET_PATH)"
   ]
  },
  {
   "cell_type": "markdown",
   "id": "3eaf0bd5-1c9b-4d84-b76c-e42910533a97",
   "metadata": {},
   "source": [
    "## Sequence Data"
   ]
  },
  {
   "cell_type": "code",
   "execution_count": 51,
   "id": "ec089206-f7b8-4ad9-86f2-8e703297a827",
   "metadata": {},
   "outputs": [
    {
     "ename": "SyntaxError",
     "evalue": "invalid syntax (4144340267.py, line 21)",
     "output_type": "error",
     "traceback": [
      "\u001b[1;36m  Cell \u001b[1;32mIn[51], line 21\u001b[1;36m\u001b[0m\n\u001b[1;33m    for\u001b[0m\n\u001b[1;37m        ^\u001b[0m\n\u001b[1;31mSyntaxError\u001b[0m\u001b[1;31m:\u001b[0m invalid syntax\n"
     ]
    }
   ],
   "source": [
    "TARGET_PATH = os.path.join(DATASET_PATH, \"Generated\", \"SequenceData\")\n",
    "new_dirs = [\"TrainData\", \"TrainLabels\", \"TestData\", \"TestLabels\"]\n",
    "for item in new_dirs:\n",
    "    os.makedirs(os.path.join(TARGET_PATH, item), exist_ok = True)\n",
    "\n",
    "# for i, folder in enumerate(os.listdir(os.path.join(DATASET_PATH, \"sequenceData\", \"negativeOnly\")), start=1):\n",
    "#     if folder == \".DS_Store\": continue\n",
    "#     print(folder)\n",
    "#     for img in os.listdir(os.path.join(DATASET_PATH, \"sequenceData\", \"negativeOnly\", folder)):\n",
    "#         print(img)\n",
    "#         print(\"-----\")\n",
    "#         break\n",
    "\n",
    "    # ! as a mask, a black image with same size as image will be created\n",
    "\n",
    "for i, folder in enumerate(os.listdir(os.path.join(DATASET_PATH, \"sequenceData\", \"positive\")), start=1):\n",
    "    if folder == \".DS_Store\": continue\n",
    "    print(folder)\n",
    "    for subfolder in os.listdir(os.path.join(DATASET_PATH, \"sequenceData\", \"positive\", folder)):\n",
    "        if subfolder == \".DS_Store\": continue\n",
    "\n",
    "# use os.walk() to avoid multiple for's"
   ]
  },
  {
   "cell_type": "markdown",
   "id": "4200d2a6-3a78-422a-ac27-582f0ff7dd52",
   "metadata": {},
   "source": [
    "# data preprocessing"
   ]
  },
  {
   "cell_type": "markdown",
   "id": "c5b47e02-10ea-4c61-908e-ffb88440db12",
   "metadata": {},
   "source": [
    "scaling (0.5,2)\n",
    "\n",
    "random cropping\n",
    "\n",
    "random horizontal flip\n",
    "\n",
    "image normalization\n"
   ]
  },
  {
   "cell_type": "code",
   "execution_count": 7,
   "id": "f1e99864-a202-4740-9667-23ab435a5143",
   "metadata": {},
   "outputs": [],
   "source": [
    "# Single Frames\n",
    "transforms = v2.Compose([\n",
    "    v2.RandomCrop(size=(1024, 1024),  pad_if_needed=True, fill=0)\n",
    "])\n"
   ]
  },
  {
   "cell_type": "code",
   "execution_count": 8,
   "id": "f4ed2303-a3aa-426a-a073-fdd469e2c0fd",
   "metadata": {},
   "outputs": [],
   "source": [
    "img_transformed  = transforms(img)\n",
    "img_transformed.show()"
   ]
  },
  {
   "cell_type": "code",
   "execution_count": null,
   "id": "0712d4b4-e0d4-4663-8022-d8db98fd7df3",
   "metadata": {},
   "outputs": [],
   "source": []
  },
  {
   "cell_type": "code",
   "execution_count": null,
   "id": "1103a0e8-989a-41b6-8f5c-59c46c25999b",
   "metadata": {},
   "outputs": [],
   "source": []
  }
 ],
 "metadata": {
  "kernelspec": {
   "display_name": "MSc Thesis",
   "language": "python",
   "name": "msc_thesis"
  },
  "language_info": {
   "codemirror_mode": {
    "name": "ipython",
    "version": 3
   },
   "file_extension": ".py",
   "mimetype": "text/x-python",
   "name": "python",
   "nbconvert_exporter": "python",
   "pygments_lexer": "ipython3",
   "version": "3.12.7"
  }
 },
 "nbformat": 4,
 "nbformat_minor": 5
}
