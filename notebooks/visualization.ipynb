{
 "cells": [
  {
   "cell_type": "code",
   "execution_count": null,
   "id": "initial_id",
   "metadata": {
    "collapsed": true
   },
   "outputs": [],
   "source": [
    "import os.path\n",
    "import matplotlib.pyplot as plt\n",
    "import torch"
   ]
  },
  {
   "metadata": {},
   "cell_type": "code",
   "outputs": [],
   "execution_count": null,
   "source": [
    "\"\"\"\n",
    "Visualizes the first image and its corresponding mask from a DataLoader side by side.\n",
    "\n",
    "Args:\n",
    "    dataloader (torch.utils.data.DataLoader): The DataLoader object.\n",
    "\"\"\"\n",
    "\n",
    "batch =\n",
    "# Fetch the first batch from the dataloader\n",
    "dl = iter(dataloader)\n",
    "for _ in range(10):\n",
    "    image_batch, mask_batch, paths_batch = next(dl)\n",
    "\n",
    "# Extract the Nth image, mask, and paths\n",
    "N = -1\n",
    "image = image_batch[N].permute(1, 2, 0).numpy()  # Convert to (H, W, C)\n",
    "mask = mask_batch[N].squeeze().numpy()           # Convert to (H, W)\n",
    "\n",
    "img_path, mask_path = paths_batch[0][N], paths_batch[1][N]\n",
    "\n",
    "# Create a figure for side-by-side visualization\n",
    "fig, axes = plt.subplots(1, 2, figsize=(12, 6))\n",
    "\n",
    "# Plot the image\n",
    "axes[0].imshow(image)\n",
    "axes[0].set_title(f\"Image: {os.path.basename(img_path)}\")\n",
    "axes[0].axis(\"off\")\n",
    "\n",
    "# Plot the mask\n",
    "axes[1].imshow(mask, cmap=\"gray\")\n",
    "axes[1].set_title(f\"Mask: {os.path.basename(mask_path)}\")\n",
    "axes[1].axis(\"off\")\n",
    "\n",
    "# Show the plot\n",
    "plt.tight_layout()\n",
    "plt.show()"
   ],
   "id": "32ad9145b1fa3909"
  }
 ],
 "metadata": {
  "kernelspec": {
   "display_name": "Python 3",
   "language": "python",
   "name": "python3"
  },
  "language_info": {
   "codemirror_mode": {
    "name": "ipython",
    "version": 2
   },
   "file_extension": ".py",
   "mimetype": "text/x-python",
   "name": "python",
   "nbconvert_exporter": "python",
   "pygments_lexer": "ipython2",
   "version": "2.7.6"
  }
 },
 "nbformat": 4,
 "nbformat_minor": 5
}
