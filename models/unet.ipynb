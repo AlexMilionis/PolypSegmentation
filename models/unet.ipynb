{
 "cells": [
  {
   "cell_type": "code",
   "id": "896a5171-e447-4107-96ea-e86c5c95ce42",
   "metadata": {
    "ExecuteTime": {
     "end_time": "2024-11-18T17:05:31.855601Z",
     "start_time": "2024-11-18T17:05:31.851574Z"
    }
   },
   "source": [
    "import torch\n",
    "import segmentation_models_pytorch as smp\n",
    "import torch.nn as nn\n",
    "import torch.optim as optim"
   ],
   "outputs": [],
   "execution_count": 17
  },
  {
   "metadata": {
    "ExecuteTime": {
     "end_time": "2024-11-18T17:05:31.876594Z",
     "start_time": "2024-11-18T17:05:31.872891Z"
    }
   },
   "cell_type": "code",
   "source": [
    "# from segmentation_models_pytorch.encoders import get_encoder_names\n",
    "# encoders = get_encoder_names()\n",
    "# print(encoders)\n"
   ],
   "id": "4dc1d6eeb961cb36",
   "outputs": [],
   "execution_count": 18
  },
  {
   "cell_type": "code",
   "id": "ae692723-751c-44a0-a2d3-1889fd0aef4e",
   "metadata": {
    "ExecuteTime": {
     "end_time": "2024-11-18T17:05:31.888961Z",
     "start_time": "2024-11-18T17:05:31.883987Z"
    }
   },
   "source": [
    "def unet_model():\n",
    "    model = smp.Unet(encoder_name=\"resnet18\",\n",
    "                 encoder_weights=\"imagenet\",\n",
    "                 in_channels=3,\n",
    "                 classes=2)\n",
    "    if torch.cuda.is_available():\n",
    "        print(torch.cuda.get_device_name(0))\n",
    "        model = model.cuda()\n",
    "    return model\n"
   ],
   "outputs": [],
   "execution_count": 19
  },
  {
   "cell_type": "markdown",
   "id": "d7dafbf1-48fc-441e-891f-cd1b94758485",
   "metadata": {},
   "source": [
    "1. Install Required Libraries\n",
    "2. Prepare Your Data\n",
    "3. Define Dataset and DataLoader\n",
    "4. Load the Pretrained Model    \n",
    "5. Define Loss Function and Optimizer\n",
    "6. Training Loop\n",
    "7. Evaluate the Model\n",
    "8. Save the Trained Model\n",
    "\n",
    "Key considerations:\n",
    "1. Data Augmentation:\n",
    "Apply augmentations (e.g., flips, rotations, cropping) to increase dataset variability and improve generalization.\n",
    "Use libraries like albumentations for this.\n",
    "\n",
    "3. Fine-Tuning:\n",
    "Start with a low learning rate to fine-tune the pretrained encoder without overwriting the learned features.\n",
    "\n",
    "\n",
    "3. Evaluation Metrics:\n",
    "Use Dice Score, Intersection over Union (IoU), or F1 Score to evaluate segmentation performance.\n",
    "Let me know if you need clarification or further details!"
   ]
  },
  {
   "metadata": {},
   "cell_type": "markdown",
   "source": "# https://segmentation-models-pytorch.readthedocs.io/en/latest/models.html#unet",
   "id": "7d9775d405898929"
  },
  {
   "cell_type": "code",
   "id": "f864706e-fcc9-493f-97b2-292b328ebaeb",
   "metadata": {
    "ExecuteTime": {
     "end_time": "2024-11-18T17:05:31.917071Z",
     "start_time": "2024-11-18T17:05:31.913881Z"
    }
   },
   "source": [],
   "outputs": [],
   "execution_count": null
  }
 ],
 "metadata": {
  "kernelspec": {
   "display_name": "MSc Thesis",
   "language": "python",
   "name": "msc_thesis"
  },
  "language_info": {
   "codemirror_mode": {
    "name": "ipython",
    "version": 3
   },
   "file_extension": ".py",
   "mimetype": "text/x-python",
   "name": "python",
   "nbconvert_exporter": "python",
   "pygments_lexer": "ipython3",
   "version": "3.12.7"
  }
 },
 "nbformat": 4,
 "nbformat_minor": 5
}
