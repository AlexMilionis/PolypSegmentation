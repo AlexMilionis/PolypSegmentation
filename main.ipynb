{
 "cells": [
  {
   "metadata": {
    "ExecuteTime": {
     "end_time": "2024-11-19T17:37:21.187008Z",
     "start_time": "2024-11-19T17:37:14.070897Z"
    }
   },
   "cell_type": "code",
   "source": [
    "from datasetclass import PolypDataset\n",
    "from constants import Constants"
   ],
   "id": "5d80c507401fe270",
   "outputs": [],
   "execution_count": 1
  },
  {
   "metadata": {
    "ExecuteTime": {
     "end_time": "2024-11-19T17:37:21.249058Z",
     "start_time": "2024-11-19T17:37:21.215103Z"
    }
   },
   "cell_type": "code",
   "source": [
    "dataset = PolypDataset(\n",
    "    images_dir = Constants.IMAGE_DIR,\n",
    "    masks_dir  = Constants.MASK_DIR\n",
    ")"
   ],
   "id": "4132eeaebd0423a6",
   "outputs": [],
   "execution_count": 2
  },
  {
   "metadata": {
    "ExecuteTime": {
     "end_time": "2024-11-19T17:37:51.167771Z",
     "start_time": "2024-11-19T17:37:51.151301Z"
    }
   },
   "cell_type": "code",
   "source": [
    "print(dataset.__len__())\n",
    "print(dataset.__getitem__(0).shape)"
   ],
   "id": "60c6ed3337fe987f",
   "outputs": [
    {
     "name": "stdout",
     "output_type": "stream",
     "text": [
      "8037\n",
      "torch.Size([3, 1080, 1920])\n"
     ]
    }
   ],
   "execution_count": 6
  },
  {
   "metadata": {
    "ExecuteTime": {
     "end_time": "2024-11-19T17:37:21.558548Z",
     "start_time": "2024-11-19T17:37:21.543579Z"
    }
   },
   "cell_type": "code",
   "source": "",
   "id": "24021dd2ff049658",
   "outputs": [],
   "execution_count": 4
  },
  {
   "metadata": {},
   "cell_type": "code",
   "outputs": [],
   "execution_count": null,
   "source": "",
   "id": "52949748650466d5"
  }
 ],
 "metadata": {
  "kernelspec": {
   "name": "msc_thesis",
   "language": "python",
   "display_name": "MSc Thesis"
  }
 },
 "nbformat": 5,
 "nbformat_minor": 9
}
